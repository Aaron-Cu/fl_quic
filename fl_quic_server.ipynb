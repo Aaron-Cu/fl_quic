{
 "cells": [
  {
   "cell_type": "code",
   "execution_count": null,
   "id": "2ff8ad4e",
   "metadata": {},
   "outputs": [
    {
     "name": "stdout",
     "output_type": "stream",
     "text": [
      "[Server] QUIC server running at 0.0.0.0:4433\n"
     ]
    }
   ],
   "source": [
    "import asyncio\n",
    "from fl_quic_transport_flower import FLQuicServer\n",
    "\n",
    "server = FLQuicServer()\n",
    "\n",
    "async def start_server():\n",
    "    await server.run()  # Inside this, it does \"await server.wait_closed()\"\n",
    "\n",
    "# Run the server inside asyncio.create_task\n",
    "asyncio.create_task(start_server())\n",
    "\n",
    "# Just await something infinite to hold cell\n",
    "while True:\n",
    "    await asyncio.sleep(3600)  # effectively \"hold the cell open\""
   ]
  }
 ],
 "metadata": {
  "kernelspec": {
   "display_name": "Python 3",
   "language": "python",
   "name": "python3"
  },
  "language_info": {
   "codemirror_mode": {
    "name": "ipython",
    "version": 3
   },
   "file_extension": ".py",
   "mimetype": "text/x-python",
   "name": "python",
   "nbconvert_exporter": "python",
   "pygments_lexer": "ipython3",
   "version": "3.10.11"
  }
 },
 "nbformat": 4,
 "nbformat_minor": 5
}
