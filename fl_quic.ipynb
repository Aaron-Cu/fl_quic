{
 "cells": [
  {
   "cell_type": "code",
   "execution_count": 1,
   "id": "39280419",
   "metadata": {},
   "outputs": [
    {
     "name": "stderr",
     "output_type": "stream",
     "text": [
      "2025-04-25 19:56:33.990046: I tensorflow/core/platform/cpu_feature_guard.cc:210] This TensorFlow binary is optimized to use available CPU instructions in performance-critical operations.\n",
      "To enable the following instructions: AVX2 FMA, in other operations, rebuild TensorFlow with the appropriate compiler flags.\n",
      "/home/aaron/miniconda3/lib/python3.12/site-packages/tqdm/auto.py:21: TqdmWarning: IProgress not found. Please update jupyter and ipywidgets. See https://ipywidgets.readthedocs.io/en/stable/user_install.html\n",
      "  from .autonotebook import tqdm as notebook_tqdm\n",
      "/home/aaron/miniconda3/lib/python3.12/site-packages/keras/src/layers/reshaping/flatten.py:37: UserWarning: Do not pass an `input_shape`/`input_dim` argument to a layer. When using Sequential models, prefer using an `Input(shape)` object as the first layer in the model instead.\n",
      "  super().__init__(**kwargs)\n",
      "Generating train split: 100%|██████████| 50000/50000 [00:00<00:00, 104880.10 examples/s]\n",
      "Generating test split: 100%|██████████| 10000/10000 [00:00<00:00, 108811.54 examples/s]\n"
     ]
    },
    {
     "ename": "ConnectionError",
     "evalue": "",
     "output_type": "error",
     "traceback": [
      "\u001b[0;31m---------------------------------------------------------------------------\u001b[0m",
      "\u001b[0;31mConnectionError\u001b[0m                           Traceback (most recent call last)",
      "Cell \u001b[0;32mIn[1], line 23\u001b[0m\n\u001b[1;32m     20\u001b[0m     \u001b[38;5;28;01mawait\u001b[39;00m asyncio\u001b[38;5;241m.\u001b[39msleep(\u001b[38;5;241m1\u001b[39m)\n\u001b[1;32m     21\u001b[0m     \u001b[38;5;28;01mawait\u001b[39;00m fl_client_quic(\u001b[38;5;124m\"\u001b[39m\u001b[38;5;124mlocalhost\u001b[39m\u001b[38;5;124m\"\u001b[39m, \u001b[38;5;241m4433\u001b[39m, model, x_train, y_train)\n\u001b[0;32m---> 23\u001b[0m \u001b[38;5;28;01mawait\u001b[39;00m run_client()\n",
      "Cell \u001b[0;32mIn[1], line 21\u001b[0m, in \u001b[0;36mrun_client\u001b[0;34m()\u001b[0m\n\u001b[1;32m     18\u001b[0m x_train, y_train \u001b[38;5;241m=\u001b[39m partition[\u001b[38;5;124m\"\u001b[39m\u001b[38;5;124mtrain\u001b[39m\u001b[38;5;124m\"\u001b[39m][\u001b[38;5;124m\"\u001b[39m\u001b[38;5;124mimg\u001b[39m\u001b[38;5;124m\"\u001b[39m] \u001b[38;5;241m/\u001b[39m \u001b[38;5;241m255.0\u001b[39m, partition[\u001b[38;5;124m\"\u001b[39m\u001b[38;5;124mtrain\u001b[39m\u001b[38;5;124m\"\u001b[39m][\u001b[38;5;124m\"\u001b[39m\u001b[38;5;124mlabel\u001b[39m\u001b[38;5;124m\"\u001b[39m]\n\u001b[1;32m     20\u001b[0m \u001b[38;5;28;01mawait\u001b[39;00m asyncio\u001b[38;5;241m.\u001b[39msleep(\u001b[38;5;241m1\u001b[39m)\n\u001b[0;32m---> 21\u001b[0m \u001b[38;5;28;01mawait\u001b[39;00m fl_client_quic(\u001b[38;5;124m\"\u001b[39m\u001b[38;5;124mlocalhost\u001b[39m\u001b[38;5;124m\"\u001b[39m, \u001b[38;5;241m4433\u001b[39m, model, x_train, y_train)\n",
      "File \u001b[0;32m~/repos/fl_quic/fl_quic_transport_flower.py:91\u001b[0m, in \u001b[0;36mfl_client_quic\u001b[0;34m(host, port, model, x_train, y_train)\u001b[0m\n\u001b[1;32m     88\u001b[0m \u001b[38;5;28;01mwith\u001b[39;00m \u001b[38;5;28mopen\u001b[39m(\u001b[38;5;124m\"\u001b[39m\u001b[38;5;124mca_cert.pem\u001b[39m\u001b[38;5;124m\"\u001b[39m, \u001b[38;5;124m\"\u001b[39m\u001b[38;5;124mrb\u001b[39m\u001b[38;5;124m\"\u001b[39m) \u001b[38;5;28;01mas\u001b[39;00m f:\n\u001b[1;32m     89\u001b[0m     configuration\u001b[38;5;241m.\u001b[39mload_verify_locations(cadata\u001b[38;5;241m=\u001b[39mf\u001b[38;5;241m.\u001b[39mread()\u001b[38;5;241m.\u001b[39mdecode())\n\u001b[0;32m---> 91\u001b[0m \u001b[38;5;28;01masync\u001b[39;00m \u001b[38;5;28;01mwith\u001b[39;00m connect(\n\u001b[1;32m     92\u001b[0m     host, \n\u001b[1;32m     93\u001b[0m     port, \n\u001b[1;32m     94\u001b[0m     configuration\u001b[38;5;241m=\u001b[39mconfiguration, \n\u001b[1;32m     95\u001b[0m     session_ticket_handler\u001b[38;5;241m=\u001b[39m\u001b[38;5;28;01mNone\u001b[39;00m\n\u001b[1;32m     96\u001b[0m ) \u001b[38;5;28;01mas\u001b[39;00m client:\n\u001b[1;32m     97\u001b[0m     quic_stream \u001b[38;5;241m=\u001b[39m \u001b[38;5;28;01mawait\u001b[39;00m client\u001b[38;5;241m.\u001b[39mcreate_stream()\n\u001b[1;32m    100\u001b[0m     \u001b[38;5;66;03m# Step 1: Train locally\u001b[39;00m\n",
      "File \u001b[0;32m~/miniconda3/lib/python3.12/contextlib.py:210\u001b[0m, in \u001b[0;36m_AsyncGeneratorContextManager.__aenter__\u001b[0;34m(self)\u001b[0m\n\u001b[1;32m    208\u001b[0m \u001b[38;5;28;01mdel\u001b[39;00m \u001b[38;5;28mself\u001b[39m\u001b[38;5;241m.\u001b[39margs, \u001b[38;5;28mself\u001b[39m\u001b[38;5;241m.\u001b[39mkwds, \u001b[38;5;28mself\u001b[39m\u001b[38;5;241m.\u001b[39mfunc\n\u001b[1;32m    209\u001b[0m \u001b[38;5;28;01mtry\u001b[39;00m:\n\u001b[0;32m--> 210\u001b[0m     \u001b[38;5;28;01mreturn\u001b[39;00m \u001b[38;5;28;01mawait\u001b[39;00m anext(\u001b[38;5;28mself\u001b[39m\u001b[38;5;241m.\u001b[39mgen)\n\u001b[1;32m    211\u001b[0m \u001b[38;5;28;01mexcept\u001b[39;00m \u001b[38;5;167;01mStopAsyncIteration\u001b[39;00m:\n\u001b[1;32m    212\u001b[0m     \u001b[38;5;28;01mraise\u001b[39;00m \u001b[38;5;167;01mRuntimeError\u001b[39;00m(\u001b[38;5;124m\"\u001b[39m\u001b[38;5;124mgenerator didn\u001b[39m\u001b[38;5;124m'\u001b[39m\u001b[38;5;124mt yield\u001b[39m\u001b[38;5;124m\"\u001b[39m) \u001b[38;5;28;01mfrom\u001b[39;00m \u001b[38;5;28;01mNone\u001b[39;00m\n",
      "File \u001b[0;32m~/miniconda3/lib/python3.12/site-packages/aioquic/asyncio/client.py:93\u001b[0m, in \u001b[0;36mconnect\u001b[0;34m(host, port, configuration, create_protocol, session_ticket_handler, stream_handler, token_handler, wait_connected, local_port)\u001b[0m\n\u001b[1;32m     91\u001b[0m     protocol\u001b[38;5;241m.\u001b[39mconnect(addr, transmit\u001b[38;5;241m=\u001b[39mwait_connected)\n\u001b[1;32m     92\u001b[0m     \u001b[38;5;28;01mif\u001b[39;00m wait_connected:\n\u001b[0;32m---> 93\u001b[0m         \u001b[38;5;28;01mawait\u001b[39;00m protocol\u001b[38;5;241m.\u001b[39mwait_connected()\n\u001b[1;32m     94\u001b[0m     \u001b[38;5;28;01myield\u001b[39;00m protocol\n\u001b[1;32m     95\u001b[0m \u001b[38;5;28;01mfinally\u001b[39;00m:\n",
      "File \u001b[0;32m~/miniconda3/lib/python3.12/site-packages/aioquic/asyncio/protocol.py:146\u001b[0m, in \u001b[0;36mQuicConnectionProtocol.wait_connected\u001b[0;34m(self)\u001b[0m\n\u001b[1;32m    144\u001b[0m \u001b[38;5;28;01mif\u001b[39;00m \u001b[38;5;129;01mnot\u001b[39;00m \u001b[38;5;28mself\u001b[39m\u001b[38;5;241m.\u001b[39m_connected:\n\u001b[1;32m    145\u001b[0m     \u001b[38;5;28mself\u001b[39m\u001b[38;5;241m.\u001b[39m_connected_waiter \u001b[38;5;241m=\u001b[39m \u001b[38;5;28mself\u001b[39m\u001b[38;5;241m.\u001b[39m_loop\u001b[38;5;241m.\u001b[39mcreate_future()\n\u001b[0;32m--> 146\u001b[0m     \u001b[38;5;28;01mawait\u001b[39;00m asyncio\u001b[38;5;241m.\u001b[39mshield(\u001b[38;5;28mself\u001b[39m\u001b[38;5;241m.\u001b[39m_connected_waiter)\n",
      "\u001b[0;31mConnectionError\u001b[0m: "
     ]
    }
   ],
   "source": [
    "import asyncio\n",
    "from fl_quic_transport_flower import FLQuicServer\n",
    "import tensorflow as tf\n",
    "from flwr_datasets import FederatedDataset\n",
    "from fl_quic_transport_flower import fl_client_quic\n",
    "\n",
    "async def run_client():\n",
    "    model = tf.keras.Sequential([\n",
    "        tf.keras.layers.Flatten(input_shape=(32, 32, 3)),\n",
    "        tf.keras.layers.Dense(10, activation='softmax')\n",
    "    ])\n",
    "    model.compile(optimizer=\"adam\", loss=\"sparse_categorical_crossentropy\", metrics=[\"accuracy\"])\n",
    "\n",
    "    fds = FederatedDataset(dataset=\"cifar10\", partitioners={\"train\": 3})\n",
    "    partition = fds.load_partition(partition_id=0, split=\"train\")\n",
    "    partition.set_format(\"numpy\")\n",
    "    partition = partition.train_test_split(test_size=0.2, seed=42)\n",
    "    x_train, y_train = partition[\"train\"][\"img\"] / 255.0, partition[\"train\"][\"label\"]\n",
    "\n",
    "    await asyncio.sleep(1)\n",
    "    await fl_client_quic(\"localhost\", 4433, model, x_train, y_train)\n",
    "\n",
    "await run_client()\n"
   ]
  },
  {
   "cell_type": "code",
   "execution_count": null,
   "id": "c47c26f2",
   "metadata": {},
   "outputs": [],
   "source": [
    "# Install needed packages if you haven't\n",
    "# !pip install aioquic flwr flwr-datasets tensorflow\n",
    "\n",
    "# -------------------------\n",
    "# SERVER SIDE (Run this first in one cell)\n",
    "# -------------------------\n",
    "import asyncio\n",
    "from fl_quic_transport_flower import FLQuicServer\n",
    "\n",
    "server = FLQuicServer()\n",
    "loop = asyncio.get_event_loop()\n",
    "loop.create_task(server.run())\n",
    "print(\"[Server] QUIC Federated Server running... (Ctrl+C to stop)\")\n",
    "\n",
    "# -------------------------\n",
    "# CLIENT SIDE (Run this second in another cell)\n",
    "# -------------------------\n",
    "import asyncio\n",
    "import tensorflow as tf\n",
    "from flwr_datasets import FederatedDataset\n",
    "from fl_quic_transport_flower import fl_client_quic\n",
    "\n",
    "# Build model\n",
    "model = tf.keras.applications.MobileNetV2((32, 32, 3), classes=10, weights=None)\n",
    "model.compile(optimizer=\"adam\", loss=\"sparse_categorical_crossentropy\", metrics=[\"accuracy\"])\n",
    "\n",
    "# Load CIFAR-10 partition\n",
    "fds = FederatedDataset(dataset=\"cifar10\", partitioners={\"train\": 3})\n",
    "partition = fds.load_partition(partition_id=0, split=\"train\")\n",
    "partition.set_format(\"numpy\")\n",
    "partition = partition.train_test_split(test_size=0.2, seed=42)\n",
    "x_train, y_train = partition[\"train\"][\"img\"] / 255.0, partition[\"train\"][\"label\"]\n",
    "\n",
    "# Run QUIC Client\n",
    "asyncio.run(fl_client_quic(\"localhost\", 4433, model, x_train, y_train))\n"
   ]
  },
  {
   "cell_type": "code",
   "execution_count": null,
   "id": "5cdca823",
   "metadata": {},
   "outputs": [],
   "source": [
    "import matplotlib.pyplot as plt\n",
    "import numpy as np\n",
    "\n",
    "# Example dummy data (replace with your real measured values)\n",
    "rounds = np.array([1, 2, 3, 4, 5])\n",
    "grpc_times = np.array([10.5, 9.8, 10.1, 9.6, 10.3])  # Replace with your gRPC round durations\n",
    "quic_times = np.array([6.3, 5.9, 6.1, 5.7, 6.2])    # Replace with your QUIC round durations\n",
    "\n",
    "# Create the plot\n",
    "plt.figure(figsize=(8, 5))\n",
    "plt.plot(rounds, grpc_times, marker='o', label='gRPC over TCP', linestyle='--')\n",
    "plt.plot(rounds, quic_times, marker='s', label='QUIC Optimized', linestyle='-')\n",
    "\n",
    "# Labels and Title\n",
    "plt.xlabel('Training Round')\n",
    "plt.ylabel('Round Duration (seconds)')\n",
    "plt.title('Federated Learning Communication Round Durations')\n",
    "plt.legend()\n",
    "plt.grid(True)\n",
    "\n",
    "# Optional: Customize Y limits\n",
    "# plt.ylim(0, max(grpc_times.max(), quic_times.max()) + 2)\n",
    "\n",
    "# Show plot\n",
    "plt.show()\n"
   ]
  },
  {
   "cell_type": "code",
   "execution_count": null,
   "id": "4f2ca71c",
   "metadata": {},
   "outputs": [],
   "source": [
    "import matplotlib.pyplot as plt\n",
    "import numpy as np\n",
    "\n",
    "# Example dummy data (replace with your actual measured network sizes)\n",
    "methods = ['gRPC (TCP)', 'QUIC']\n",
    "avg_bytes_sent = [520000, 310000]  # Replace with average bytes sent per client per round\n",
    "\n",
    "# Create the bar plot\n",
    "plt.figure(figsize=(6, 5))\n",
    "bars = plt.bar(methods, avg_bytes_sent, color=['gray', 'blue'])\n",
    "\n",
    "# Add numbers on top of bars\n",
    "for bar in bars:\n",
    "    yval = bar.get_height()\n",
    "    plt.text(bar.get_x() + bar.get_width()/2.0, yval + 10000, f'{yval/1000:.1f} KB', ha='center', va='bottom')\n",
    "\n",
    "# Labels and Title\n",
    "plt.ylabel('Average Data Sent per Round (bytes)')\n",
    "plt.title('Network Overhead Comparison: gRPC vs QUIC')\n",
    "plt.grid(axis='y')\n",
    "\n",
    "# Show plot\n",
    "plt.show()\n"
   ]
  },
  {
   "cell_type": "code",
   "execution_count": null,
   "id": "117e28ed",
   "metadata": {},
   "outputs": [],
   "source": [
    "# Replace with your measured values\n",
    "grpc_avg_time = 10.2  # seconds\n",
    "quic_avg_time = 6.1   # seconds\n",
    "\n",
    "speedup_percent = ((grpc_avg_time - quic_avg_time) / grpc_avg_time) * 100\n",
    "print(f\"Communication Speedup: {speedup_percent:.2f}%\")\n"
   ]
  }
 ],
 "metadata": {
  "kernelspec": {
   "display_name": "base",
   "language": "python",
   "name": "python3"
  },
  "language_info": {
   "codemirror_mode": {
    "name": "ipython",
    "version": 3
   },
   "file_extension": ".py",
   "mimetype": "text/x-python",
   "name": "python",
   "nbconvert_exporter": "python",
   "pygments_lexer": "ipython3",
   "version": "3.12.2"
  }
 },
 "nbformat": 4,
 "nbformat_minor": 5
}
